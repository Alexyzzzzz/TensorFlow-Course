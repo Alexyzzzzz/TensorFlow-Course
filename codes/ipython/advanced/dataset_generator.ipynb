{
  "nbformat": 4,
  "nbformat_minor": 0,
  "metadata": {
    "colab": {
      "name": "dataset_generator.ipynb",
      "provenance": [],
      "collapsed_sections": []
    },
    "kernelspec": {
      "name": "python3",
      "display_name": "Python 3"
    }
  },
  "cells": [
    {
      "cell_type": "markdown",
      "metadata": {
        "id": "WyBjnWt7FXsl"
      },
      "source": [
        "# Dataset generators\n",
        "\n",
        "In this advanced tutorials I demonstrate an efficient way of using the TensorFlow [tf.Data API](https://www.tensorflow.org/guide/data) to create a dataset. This approach has some important advantages:\n",
        "\n",
        "1. It provides a lot of flexibility in terms of using Python and packages such as NumPy to create a dataset.\n",
        "2. By working with large databases, you can call the samples and shuffling **on-demand** which significantly reduce memory usage. In fact, memory won't be a bottleneck anymore. \n",
        "\n",
        "This will be done by [Python generator functions](https://www.tensorflow.org/guide/data#consuming_python_generators) to create [tf.data.Dataset](https://www.tensorflow.org/api_docs/python/tf/data/Dataset) objects. The process is as follows:\n",
        "\n",
        "1. By using a generator function, we dictate the way data must be generated.\n",
        "2. By using [tf.data.Dataset.from_generator](https://www.tensorflow.org/api_docs/python/tf/data/Dataset#from_generator) method, we create the TensorFlow dataset."
      ]
    },
    {
      "cell_type": "code",
      "metadata": {
        "id": "zkYRcDwhl1UW"
      },
      "source": [
        "import tensorflow as tf\n",
        "import numpy as np"
      ],
      "execution_count": 1,
      "outputs": []
    },
    {
      "cell_type": "code",
      "metadata": {
        "id": "CZqKCk9pl1rx",
        "outputId": "15f0524b-0e36-4eb7-ce60-f6cfc3cd5f86",
        "colab": {
          "base_uri": "https://localhost:8080/"
        }
      },
      "source": [
        "# Load MNIST data\n",
        "(x_train, y_train), (x_test, y_test) = tf.keras.datasets.mnist.load_data()\n",
        "# Preprocessing\n",
        "x_train = x_train / 255.0\n",
        "x_test = x_test / 255.0\n",
        "\n",
        "# Add one domention to make 3D images\n",
        "x_train = x_train[...,tf.newaxis]\n",
        "x_test = x_test[...,tf.newaxis]\n",
        "\n",
        "# Track the data type\n",
        "dataType, dataShape = x_train.dtype, x_train.shape\n",
        "print(f\"Data type and shape x_train: {dataType} {dataShape}\")\n",
        "labelType, labelShape = y_train.dtype, y_train.shape\n",
        "print(f\"Data type and shape y_train: {labelType} {labelShape}\")"
      ],
      "execution_count": 2,
      "outputs": [
        {
          "output_type": "stream",
          "text": [
            "Data type and shape x_train: float64 (60000, 28, 28, 1)\n",
            "Data type and shape y_train: uint8 (60000,)\n"
          ],
          "name": "stdout"
        }
      ]
    },
    {
      "cell_type": "markdown",
      "metadata": {
        "id": "3QYe8Uw0HEax"
      },
      "source": [
        "## Generators\n",
        "\n",
        "Here, I define separate generators for train/test. The generator function, pick a random sample from the dataset at each step. This create a shuffled dataset without the need to use the [.shuffle()](https://www.tensorflow.org/api_docs/python/tf/data/Dataset#shuffle) method. Sometimes [.shuffle()](https://www.tensorflow.org/api_docs/python/tf/data/Dataset#shuffle) method can be very [memory consuming](https://www.tensorflow.org/guide/data_performance#reducing_memory_footprint)."
      ]
    },
    {
      "cell_type": "code",
      "metadata": {
        "id": "RqDCX9dnCH7Z"
      },
      "source": [
        "# Defining generator functions for train/test samples\n",
        "TRAIN_LEN = x_train.shape[0]\n",
        "def gen_pairs_train():\n",
        "    for i in range(TRAIN_LEN):\n",
        "        # Get a random image each time\n",
        "        idx = np.random.randint(0,TRAIN_LEN)\n",
        "        yield (x_train[idx], y_train[idx])\n",
        "\n",
        "\n",
        "TEST_LEN = x_test.shape[0]\n",
        "def gen_pairs_test():\n",
        "    for i in range(TEST_LEN):\n",
        "        # Get a random image each time\n",
        "        idx = np.random.randint(0,TEST_LEN)\n",
        "        yield (x_test[idx], y_test[idx])\n",
        "\n",
        "# Function to test input pipeline\n",
        "sample_image, sample_label = next(gen_pairs_train())"
      ],
      "execution_count": 3,
      "outputs": []
    },
    {
      "cell_type": "markdown",
      "metadata": {
        "id": "CSoF5IsxH18W"
      },
      "source": [
        "## Dataset creation\n",
        "\n",
        "Here I just used tf.data.Dataset.from_generator on top of the *gen_pairs_train()* and *gen_pairs_test()* generator functions."
      ]
    },
    {
      "cell_type": "code",
      "metadata": {
        "id": "XTC4nXfTCd20"
      },
      "source": [
        "batch_size = 32\n",
        "# Prepare the training dataset.\n",
        "train_dataset = tf.data.Dataset.from_generator(generator=gen_pairs_train, output_types=(tf.float64, tf.uint8))\n",
        "train_dataset = train_dataset.batch(batch_size)\n",
        "\n",
        "# Prepare the validation dataset.\n",
        "test_dataset = tf.data.Dataset.from_generator(generator=gen_pairs_test, output_types=(tf.float64, tf.uint8))\n",
        "test_dataset = test_dataset.batch(batch_size)"
      ],
      "execution_count": 4,
      "outputs": []
    },
    {
      "cell_type": "code",
      "metadata": {
        "id": "6MbJ-XLIl4M2",
        "outputId": "09ef4fbb-1b31-4812-f9f7-194002762620",
        "colab": {
          "base_uri": "https://localhost:8080/",
          "height": 268
        }
      },
      "source": [
        "im_list = []\n",
        "n_samples_to_show = 16\n",
        "c = 0\n",
        "for i in range(n_samples_to_show):\n",
        "  img, label = next(gen_pairs_train())\n",
        "  im_list.append(img)\n",
        "# Visualization\n",
        "import matplotlib.pyplot as plt\n",
        "from mpl_toolkits.axes_grid1 import ImageGrid\n",
        "fig = plt.figure(figsize=(4., 4.))\n",
        "# Ref: https://matplotlib.org/3.1.1/gallery/axes_grid1/simple_axesgrid.html\n",
        "grid = ImageGrid(fig, 111,  # similar to subplot(111)\n",
        "                 nrows_ncols=(4, 4),  # creates 2x2 grid of axes\n",
        "                 axes_pad=0.1,  # pad between axes in inch.\n",
        "                 )\n",
        "# Show image grid\n",
        "for ax, im in zip(grid, im_list):\n",
        "    # Iterating over the grid returns the Axes.\n",
        "    ax.imshow(im[:,:,0], 'gray')\n",
        "plt.show()"
      ],
      "execution_count": 5,
      "outputs": [
        {
          "output_type": "display_data",
          "data": {
            "image/png": "[encoded data removed]",
            "text/plain": [
              "<Figure size 288x288 with 32 Axes>"
            ]
          },
          "metadata": {
            "tags": [],
            "needs_background": "light"
          }
        }
      ]
    },
    {
      "cell_type": "code",
      "metadata": {
        "id": "Jbj9lFh1l4iL"
      },
      "source": [
        "# Model building\n",
        "NUM_CLASSES = 10\n",
        "model = tf.keras.Sequential([\n",
        "    tf.keras.layers.Conv2D(16, (3, 3), activation='relu', input_shape=(28, 28, 1)),\n",
        "    tf.keras.layers.MaxPooling2D((2, 2)),\n",
        "    tf.keras.layers.Conv2D(32, (3, 3), activation='relu'),\n",
        "    tf.keras.layers.Flatten(),\n",
        "    tf.keras.layers.Dense(32, activation='relu'),\n",
        "    tf.keras.layers.Dense(NUM_CLASSES, activation='sigmoid')]\n",
        "    )"
      ],
      "execution_count": 6,
      "outputs": []
    },
    {
      "cell_type": "code",
      "metadata": {
        "id": "PldDIuQvl7iB"
      },
      "source": [
        "# Defining loss function\n",
        "loss_object = tf.keras.losses.SparseCategoricalCrossentropy(from_logits=False)\n",
        "accuracy_metric = tf.keras.metrics.Accuracy()\n",
        "\n",
        "# Calculate loss\n",
        "def loss_fn(gt_label, pred):\n",
        "  # training argument define the beehaviour of layers with respect\n",
        "  # to whether we are training the model or not. It is important for layers\n",
        "  # such as BatchNorm and Dropout.\n",
        "  return loss_object(y_true=gt_label, y_pred=pred)\n",
        "\n",
        "def accuracy_fn(gt_label, output):\n",
        "  # calculate the accuracy by turning output into labels with argmax\n",
        "  pred = tf.argmax(output, axis=1, output_type=tf.int32)\n",
        "  return accuracy_metric(pred, gt_label)\n"
      ],
      "execution_count": 7,
      "outputs": []
    },
    {
      "cell_type": "code",
      "metadata": {
        "id": "T1a1hEY6m0Ji"
      },
      "source": [
        "# Define the optimizer\n",
        "optimizer = tf.keras.optimizers.Adam(learning_rate=0.01)"
      ],
      "execution_count": 8,
      "outputs": []
    },
    {
      "cell_type": "code",
      "metadata": {
        "id": "k_2OZcLjnAhC",
        "outputId": "d4e5e3ee-27ac-4d1e-8b31-8b4e1f59521d",
        "colab": {
          "base_uri": "https://localhost:8080/"
        }
      },
      "source": [
        "NUM_EPOCHS = 5\n",
        "EPOCH_PER_DISPLAY = 1\n",
        "total_loss = []\n",
        "for epoch in range(NUM_EPOCHS):\n",
        "\n",
        "  running_loss = []\n",
        "  running_accuracy = []\n",
        "\n",
        "  # Training\n",
        "  for input, target in train_dataset:\n",
        "\n",
        "    # Calculate and track graduents\n",
        "    with tf.GradientTape() as tape:\n",
        "\n",
        "      # Calculate model output and loss\n",
        "      output = model(input, training=True)\n",
        "      loss_ = loss_fn(target, output)\n",
        "      accuracy_ = accuracy_fn(target, output)\n",
        "      \n",
        "      # Tape gradients\n",
        "      grads = tape.gradient(loss_, model.trainable_variables)\n",
        "      \n",
        "    # Track batch loss and accuracy\n",
        "    running_loss.append(loss_)\n",
        "    running_accuracy.append(accuracy_)\n",
        "\n",
        "    # Optimize model based on the gradients\n",
        "    optimizer.apply_gradients(zip(grads, model.trainable_variables))\n",
        "  \n",
        "  # Epoch calculations\n",
        "  epoch_loss = np.mean(running_loss)\n",
        "  epoch_accuracy = np.mean(running_accuracy)\n",
        "  if (epoch + 1) % EPOCH_PER_DISPLAY == 0:\n",
        "    print(\"Epoch {}: Loss: {:.4f} Accuracy: {:.2f}%\".format(epoch+1, epoch_loss, epoch_accuracy * 100))\n"
      ],
      "execution_count": 9,
      "outputs": [
        {
          "output_type": "stream",
          "text": [
            "Epoch 1: Loss: 0.1329 Accuracy: 92.25%\n",
            "Epoch 2: Loss: 0.0746 Accuracy: 96.68%\n",
            "Epoch 3: Loss: 0.0679 Accuracy: 97.26%\n",
            "Epoch 4: Loss: 0.0649 Accuracy: 97.58%\n",
            "Epoch 5: Loss: 0.0695 Accuracy: 97.79%\n"
          ],
          "name": "stdout"
        }
      ]
    },
    {
      "cell_type": "code",
      "metadata": {
        "id": "Njorv726pcUW",
        "outputId": "9c0327b2-3d75-45be-916f-084e7e440970",
        "colab": {
          "base_uri": "https://localhost:8080/"
        }
      },
      "source": [
        "# Calculate the accurcy on the test set\n",
        "running_accuracy = []\n",
        "for (input, gt_label) in test_dataset:\n",
        "  output = model(input, training=False)\n",
        "  accuracy_ = accuracy_fn(gt_label, output)\n",
        "  running_accuracy.append(accuracy_)\n",
        "\n",
        "print(\"Test accuracy: {:.3%}\".format(np.mean(running_accuracy)))\n"
      ],
      "execution_count": 10,
      "outputs": [
        {
          "output_type": "stream",
          "text": [
            "Test accuracy: 97.881%\n"
          ],
          "name": "stdout"
        }
      ]
    }
  ]
}