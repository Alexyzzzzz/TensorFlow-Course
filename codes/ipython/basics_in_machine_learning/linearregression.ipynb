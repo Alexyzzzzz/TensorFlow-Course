{
  "nbformat": 4,
  "nbformat_minor": 0,
  "metadata": {
    "colab": {
      "name": "linearregression.ipynb",
      "provenance": [],
      "collapsed_sections": []
    },
    "kernelspec": {
      "name": "python3",
      "display_name": "Python 3"
    }
  },
  "cells": [
    {
      "cell_type": "code",
      "metadata": {
        "id": "x1lvvYoqh_B8",
        "outputId": "4587f9d1-342b-467f-8929-35987e04107f",
        "colab": {
          "base_uri": "https://localhost:8080/"
        }
      },
      "source": [
        "from __future__ import absolute_import, division, print_function, unicode_literals\n",
        "import pathlib\n",
        "import matplotlib.pyplot as plt\n",
        "import numpy as np\n",
        "import pandas as pd\n",
        "import seaborn as sns\n",
        "from datetime import datetime\n",
        "import tensorflow as tf\n",
        "from tensorflow import keras\n",
        "from tensorflow.keras import layers\n",
        "print(tf.__version__)"
      ],
      "execution_count": 1,
      "outputs": [
        {
          "output_type": "stream",
          "text": [
            "2.3.0\n"
          ],
          "name": "stdout"
        }
      ]
    },
    {
      "cell_type": "code",
      "metadata": {
        "id": "q5aSajJaiIaM",
        "outputId": "192e546c-d81a-42ef-b4b4-ad3ba3d4a385",
        "colab": {
          "base_uri": "https://localhost:8080/"
        }
      },
      "source": [
        "# Download the daset with keras.utils.get_file\n",
        "dataset_path = keras.utils.get_file(\"housing.data\", \"https://archive.ics.uci.edu/ml/machine-learning-databases/housing/housing.data\")"
      ],
      "execution_count": 2,
      "outputs": [
        {
          "output_type": "stream",
          "text": [
            "Downloading data from https://archive.ics.uci.edu/ml/machine-learning-databases/housing/housing.data\n",
            "49152/49082 [==============================] - 0s 3us/step\n"
          ],
          "name": "stdout"
        }
      ]
    },
    {
      "cell_type": "code",
      "metadata": {
        "id": "e0DLwCqBASbu",
        "outputId": "aec2499f-ffa8-40dd-9d97-5a46772539c4",
        "colab": {
          "base_uri": "https://localhost:8080/",
          "height": 363
        }
      },
      "source": [
        "column_names = ['CRIM','ZN','INDUS','CHAS','NOX',\n",
        "                'RM', 'AGE', 'DIS','RAD','TAX','PTRATION', 'B', 'LSTAT', 'MEDV']\n",
        "raw_dataset = pd.read_csv(dataset_path, names=column_names,\n",
        "                      na_values = \"?\", comment='\\t',\n",
        "                      sep=\" \", skipinitialspace=True)\n",
        "# Create a dataset instant\n",
        "dataset = raw_dataset.copy()\n",
        "\n",
        "# This function returns last n rows from the object \n",
        "# based on position.\n",
        "dataset.tail(n=10)"
      ],
      "execution_count": 3,
      "outputs": [
        {
          "output_type": "execute_result",
          "data": {
            "text/html": [
              "<div>\n",
              "<style scoped>\n",
              "    .dataframe tbody tr th:only-of-type {\n",
              "        vertical-align: middle;\n",
              "    }\n",
              "\n",
              "    .dataframe tbody tr th {\n",
              "        vertical-align: top;\n",
              "    }\n",
              "\n",
              "    .dataframe thead th {\n",
              "        text-align: right;\n",
              "    }\n",
              "</style>\n",
              "<table border=\"1\" class=\"dataframe\">\n",
              "  <thead>\n",
              "    <tr style=\"text-align: right;\">\n",
              "      <th></th>\n",
              "      <th>CRIM</th>\n",
              "      <th>ZN</th>\n",
              "      <th>INDUS</th>\n",
              "      <th>CHAS</th>\n",
              "      <th>NOX</th>\n",
              "      <th>RM</th>\n",
              "      <th>AGE</th>\n",
              "      <th>DIS</th>\n",
              "      <th>RAD</th>\n",
              "      <th>TAX</th>\n",
              "      <th>PTRATION</th>\n",
              "      <th>B</th>\n",
              "      <th>LSTAT</th>\n",
              "      <th>MEDV</th>\n",
              "    </tr>\n",
              "  </thead>\n",
              "  <tbody>\n",
              "    <tr>\n",
              "      <th>496</th>\n",
              "      <td>0.28960</td>\n",
              "      <td>0.0</td>\n",
              "      <td>9.69</td>\n",
              "      <td>0</td>\n",
              "      <td>0.585</td>\n",
              "      <td>5.390</td>\n",
              "      <td>72.9</td>\n",
              "      <td>2.7986</td>\n",
              "      <td>6</td>\n",
              "      <td>391.0</td>\n",
              "      <td>19.2</td>\n",
              "      <td>396.90</td>\n",
              "      <td>21.14</td>\n",
              "      <td>19.7</td>\n",
              "    </tr>\n",
              "    <tr>\n",
              "      <th>497</th>\n",
              "      <td>0.26838</td>\n",
              "      <td>0.0</td>\n",
              "      <td>9.69</td>\n",
              "      <td>0</td>\n",
              "      <td>0.585</td>\n",
              "      <td>5.794</td>\n",
              "      <td>70.6</td>\n",
              "      <td>2.8927</td>\n",
              "      <td>6</td>\n",
              "      <td>391.0</td>\n",
              "      <td>19.2</td>\n",
              "      <td>396.90</td>\n",
              "      <td>14.10</td>\n",
              "      <td>18.3</td>\n",
              "    </tr>\n",
              "    <tr>\n",
              "      <th>498</th>\n",
              "      <td>0.23912</td>\n",
              "      <td>0.0</td>\n",
              "      <td>9.69</td>\n",
              "      <td>0</td>\n",
              "      <td>0.585</td>\n",
              "      <td>6.019</td>\n",
              "      <td>65.3</td>\n",
              "      <td>2.4091</td>\n",
              "      <td>6</td>\n",
              "      <td>391.0</td>\n",
              "      <td>19.2</td>\n",
              "      <td>396.90</td>\n",
              "      <td>12.92</td>\n",
              "      <td>21.2</td>\n",
              "    </tr>\n",
              "    <tr>\n",
              "      <th>499</th>\n",
              "      <td>0.17783</td>\n",
              "      <td>0.0</td>\n",
              "      <td>9.69</td>\n",
              "      <td>0</td>\n",
              "      <td>0.585</td>\n",
              "      <td>5.569</td>\n",
              "      <td>73.5</td>\n",
              "      <td>2.3999</td>\n",
              "      <td>6</td>\n",
              "      <td>391.0</td>\n",
              "      <td>19.2</td>\n",
              "      <td>395.77</td>\n",
              "      <td>15.10</td>\n",
              "      <td>17.5</td>\n",
              "    </tr>\n",
              "    <tr>\n",
              "      <th>500</th>\n",
              "      <td>0.22438</td>\n",
              "      <td>0.0</td>\n",
              "      <td>9.69</td>\n",
              "      <td>0</td>\n",
              "      <td>0.585</td>\n",
              "      <td>6.027</td>\n",
              "      <td>79.7</td>\n",
              "      <td>2.4982</td>\n",
              "      <td>6</td>\n",
              "      <td>391.0</td>\n",
              "      <td>19.2</td>\n",
              "      <td>396.90</td>\n",
              "      <td>14.33</td>\n",
              "      <td>16.8</td>\n",
              "    </tr>\n",
              "    <tr>\n",
              "      <th>501</th>\n",
              "      <td>0.06263</td>\n",
              "      <td>0.0</td>\n",
              "      <td>11.93</td>\n",
              "      <td>0</td>\n",
              "      <td>0.573</td>\n",
              "      <td>6.593</td>\n",
              "      <td>69.1</td>\n",
              "      <td>2.4786</td>\n",
              "      <td>1</td>\n",
              "      <td>273.0</td>\n",
              "      <td>21.0</td>\n",
              "      <td>391.99</td>\n",
              "      <td>9.67</td>\n",
              "      <td>22.4</td>\n",
              "    </tr>\n",
              "    <tr>\n",
              "      <th>502</th>\n",
              "      <td>0.04527</td>\n",
              "      <td>0.0</td>\n",
              "      <td>11.93</td>\n",
              "      <td>0</td>\n",
              "      <td>0.573</td>\n",
              "      <td>6.120</td>\n",
              "      <td>76.7</td>\n",
              "      <td>2.2875</td>\n",
              "      <td>1</td>\n",
              "      <td>273.0</td>\n",
              "      <td>21.0</td>\n",
              "      <td>396.90</td>\n",
              "      <td>9.08</td>\n",
              "      <td>20.6</td>\n",
              "    </tr>\n",
              "    <tr>\n",
              "      <th>503</th>\n",
              "      <td>0.06076</td>\n",
              "      <td>0.0</td>\n",
              "      <td>11.93</td>\n",
              "      <td>0</td>\n",
              "      <td>0.573</td>\n",
              "      <td>6.976</td>\n",
              "      <td>91.0</td>\n",
              "      <td>2.1675</td>\n",
              "      <td>1</td>\n",
              "      <td>273.0</td>\n",
              "      <td>21.0</td>\n",
              "      <td>396.90</td>\n",
              "      <td>5.64</td>\n",
              "      <td>23.9</td>\n",
              "    </tr>\n",
              "    <tr>\n",
              "      <th>504</th>\n",
              "      <td>0.10959</td>\n",
              "      <td>0.0</td>\n",
              "      <td>11.93</td>\n",
              "      <td>0</td>\n",
              "      <td>0.573</td>\n",
              "      <td>6.794</td>\n",
              "      <td>89.3</td>\n",
              "      <td>2.3889</td>\n",
              "      <td>1</td>\n",
              "      <td>273.0</td>\n",
              "      <td>21.0</td>\n",
              "      <td>393.45</td>\n",
              "      <td>6.48</td>\n",
              "      <td>22.0</td>\n",
              "    </tr>\n",
              "    <tr>\n",
              "      <th>505</th>\n",
              "      <td>0.04741</td>\n",
              "      <td>0.0</td>\n",
              "      <td>11.93</td>\n",
              "      <td>0</td>\n",
              "      <td>0.573</td>\n",
              "      <td>6.030</td>\n",
              "      <td>80.8</td>\n",
              "      <td>2.5050</td>\n",
              "      <td>1</td>\n",
              "      <td>273.0</td>\n",
              "      <td>21.0</td>\n",
              "      <td>396.90</td>\n",
              "      <td>7.88</td>\n",
              "      <td>11.9</td>\n",
              "    </tr>\n",
              "  </tbody>\n",
              "</table>\n",
              "</div>"
            ],
            "text/plain": [
              "        CRIM   ZN  INDUS  CHAS    NOX  ...    TAX  PTRATION       B  LSTAT  MEDV\n",
              "496  0.28960  0.0   9.69     0  0.585  ...  391.0      19.2  396.90  21.14  19.7\n",
              "497  0.26838  0.0   9.69     0  0.585  ...  391.0      19.2  396.90  14.10  18.3\n",
              "498  0.23912  0.0   9.69     0  0.585  ...  391.0      19.2  396.90  12.92  21.2\n",
              "499  0.17783  0.0   9.69     0  0.585  ...  391.0      19.2  395.77  15.10  17.5\n",
              "500  0.22438  0.0   9.69     0  0.585  ...  391.0      19.2  396.90  14.33  16.8\n",
              "501  0.06263  0.0  11.93     0  0.573  ...  273.0      21.0  391.99   9.67  22.4\n",
              "502  0.04527  0.0  11.93     0  0.573  ...  273.0      21.0  396.90   9.08  20.6\n",
              "503  0.06076  0.0  11.93     0  0.573  ...  273.0      21.0  396.90   5.64  23.9\n",
              "504  0.10959  0.0  11.93     0  0.573  ...  273.0      21.0  393.45   6.48  22.0\n",
              "505  0.04741  0.0  11.93     0  0.573  ...  273.0      21.0  396.90   7.88  11.9\n",
              "\n",
              "[10 rows x 14 columns]"
            ]
          },
          "metadata": {
            "tags": []
          },
          "execution_count": 3
        }
      ]
    },
    {
      "cell_type": "code",
      "metadata": {
        "id": "oSZGioPsAVk0"
      },
      "source": [
        "# Split data into train/test\n",
        "# p = training data portion\n",
        "p=0.8\n",
        "trainDataset = dataset.sample(frac=p,random_state=0)\n",
        "testDataset = dataset.drop(trainDataset.index)"
      ],
      "execution_count": 4,
      "outputs": []
    },
    {
      "cell_type": "code",
      "metadata": {
        "id": "583E8sDHAW5s",
        "outputId": "62406ac1-ee84-4b9d-e9d2-b5b2ca6b8fbd",
        "colab": {
          "base_uri": "https://localhost:8080/",
          "height": 279
        }
      },
      "source": [
        "# Visual representation of training data\n",
        "import matplotlib.pyplot as plt\n",
        "fig, ax = plt.subplots()\n",
        "# With .pop() command, the associated columns are extracted.\n",
        "x = trainDataset['RM']\n",
        "y = trainDataset['MEDV']\n",
        "ax.scatter(x, y, edgecolors=(0, 0, 0))\n",
        "ax.set_xlabel('RM')\n",
        "ax.set_ylabel('MEDV')\n",
        "plt.show()"
      ],
      "execution_count": 5,
      "outputs": [
        {
          "output_type": "display_data",
          "data": {
            "image/png": "[encoded data removed]",
            "text/plain": [
              "<Figure size 432x288 with 1 Axes>"
            ]
          },
          "metadata": {
            "tags": [],
            "needs_background": "light"
          }
        }
      ]
    },
    {
      "cell_type": "code",
      "metadata": {
        "id": "zaWXTRI8AYPe"
      },
      "source": [
        "# Pop command return item and drop it from frame.\n",
        "# After using trainDataset.pop('RM'), the 'RM' column \n",
        "# does not exist in the trainDataset frame anymore!\n",
        "trainInput = trainDataset['RM']\n",
        "trainTarget = trainDataset['MEDV']\n",
        "testInput = testDataset['RM']\n",
        "testTarget = testDataset['MEDV']"
      ],
      "execution_count": 6,
      "outputs": []
    },
    {
      "cell_type": "code",
      "metadata": {
        "id": "3g7FwG2kAaBd",
        "outputId": "1387e8f7-9a13-4a84-db7c-2d6d3260f330",
        "colab": {
          "base_uri": "https://localhost:8080/"
        }
      },
      "source": [
        "# We don't specify anything for activation -> no activation is applied (ie. \"linear\" activation: a(x) = x)\n",
        "# Check: https://www.tensorflow.org/api_docs/python/tf/keras/layers/Dense\n",
        "\n",
        "def linear_model():\n",
        "  model = keras.Sequential([\n",
        "        layers.Dense(1, use_bias=True, input_shape=(1,), name='layer')\n",
        "      ])\n",
        "\n",
        "  # Using adam optimizer\n",
        "  optimizer = tf.keras.optimizers.Adam(\n",
        "      learning_rate=0.01, beta_1=0.9, beta_2=0.99, epsilon=1e-05, amsgrad=False,\n",
        "      name='Adam')\n",
        "    \n",
        "  # Check: https://www.tensorflow.org/api_docs/python/tf/keras/Model\n",
        "  # loss: String (name of objective function), objective function or tf.keras.losses.Loss instance. See tf.keras.losses.\n",
        "  # optimizer: String (name of optimizer) or optimizer instance. See tf.keras.optimizers.\n",
        "  # metrics: List of metrics to be evaluated by the model during training and testing\n",
        "  model.compile(loss='mse', optimizer=optimizer, metrics=['mae','mse'])\n",
        "\n",
        "  return model\n",
        "\n",
        "# Create model instant\n",
        "model = linear_model()\n",
        "\n",
        "# Model plot\n",
        "tf.keras.utils.plot_model(\n",
        "  model, to_file='model.png', show_shapes=True, show_layer_names=True,\n",
        "  rankdir='TB', expand_nested=False, dpi=100\n",
        "  )\n",
        "\n",
        "# Print the model summary\n",
        "model.summary()"
      ],
      "execution_count": 7,
      "outputs": [
        {
          "output_type": "stream",
          "text": [
            "Model: \"sequential\"\n",
            "_________________________________________________________________\n",
            "Layer (type)                 Output Shape              Param #   \n",
            "=================================================================\n",
            "layer (Dense)                (None, 1)                 2         \n",
            "=================================================================\n",
            "Total params: 2\n",
            "Trainable params: 2\n",
            "Non-trainable params: 0\n",
            "_________________________________________________________________\n"
          ],
          "name": "stdout"
        }
      ]
    },
    {
      "cell_type": "code",
      "metadata": {
        "id": "XxqPOb8lAbhr",
        "outputId": "9f2868b8-dc00-48a7-b47d-f49ec8a1a898",
        "colab": {
          "base_uri": "https://localhost:8080/"
        }
      },
      "source": [
        "# params\n",
        "n_epochs = 4000\n",
        "batch_size = 256\n",
        "n_idle_epochs = 100\n",
        "n_epochs_log = 200\n",
        "n_samples_save = n_epochs_log * trainInput.shape[0]\n",
        "print('Checkpoint is saved for each {} samples'.format(n_samples_save))\n",
        "\n",
        "# A mechanism that stops training if the validation loss is not improving for more than n_idle_epochs.\n",
        "#See https://www.tensorflow.org/api_docs/python/tf/keras/callbacks/EarlyStopping for details.\n",
        "earlyStopping = tf.keras.callbacks.EarlyStopping(monitor='val_loss', patience=n_idle_epochs, min_delta=0.001)\n",
        "\n",
        "# Creating a custom callback to print the log after a certain number of epochs\n",
        "# Check: https://www.tensorflow.org/api_docs/python/tf/keras/callbacks\n",
        "predictions_list = []\n",
        "class NEPOCHLogger(tf.keras.callbacks.Callback):\n",
        "    def __init__(self,per_epoch=100):\n",
        "        '''\n",
        "        display: Number of batches to wait before outputting loss\n",
        "        '''\n",
        "        self.seen = 0\n",
        "        self.per_epoch = per_epoch\n",
        "    \n",
        "    def on_epoch_end(self, epoch, logs=None):\n",
        "      if epoch % self.per_epoch == 0:\n",
        "        print('Epoch {}, loss {:.2f}, val_loss {:.2f}, mae {:.2f}, val_mae {:.2f}, mse {:.2f}, val_mse {:.2f}'\\\n",
        "              .format(epoch, logs['loss'], logs['val_loss'],logs['mae'], logs['val_mae'],logs['mse'], logs['val_mse']))\n",
        "              \n",
        "# Call the object\n",
        "log_display = NEPOCHLogger(per_epoch=n_epochs_log)\n",
        "\n",
        "# Include the epoch in the file name (uses `str.format`)\n",
        "import os\n",
        "checkpoint_path = \"training/cp-{epoch:05d}.ckpt\"\n",
        "checkpoint_dir = os.path.dirname(checkpoint_path)\n",
        "\n",
        "# Create a callback that saves the model's weights every 5 epochs\n",
        "checkpointCallback = tf.keras.callbacks.ModelCheckpoint(\n",
        "    filepath=checkpoint_path, \n",
        "    verbose=1, \n",
        "    save_weights_only=True,\n",
        "    save_freq=n_samples_save)\n",
        "\n",
        "# Save the weights using the `checkpoint_path` format\n",
        "model.save_weights(checkpoint_path.format(epoch=0))\n",
        "\n",
        "# Define the Keras TensorBoard callback.\n",
        "logdir=\"logs/fit/\" + datetime.now().strftime(\"%Y%m%d-%H%M%S\")\n",
        "tensorboard_callback = keras.callbacks.TensorBoard(log_dir=logdir)\n",
        "\n",
        "history = model.fit(\n",
        "  trainInput, trainTarget, batch_size=batch_size,\n",
        "  epochs=n_epochs, validation_split = 0.1, verbose=0, callbacks=[earlyStopping,log_display,tensorboard_callback,checkpointCallback])"
      ],
      "execution_count": 8,
      "outputs": [
        {
          "output_type": "stream",
          "text": [
            "Checkpoint is saved for each 81000 samples\n",
            "WARNING:tensorflow:From /usr/local/lib/python3.6/dist-packages/tensorflow/python/ops/summary_ops_v2.py:1277: stop (from tensorflow.python.eager.profiler) is deprecated and will be removed after 2020-07-01.\n",
            "Instructions for updating:\n",
            "use `tf.profiler.experimental.stop` instead.\n",
            "WARNING:tensorflow:Callbacks method `on_train_batch_end` is slow compared to the batch time (batch time: 0.0064s vs `on_train_batch_end` time: 0.0184s). Check your callbacks.\n",
            "Epoch 0, loss 917.43, val_loss 1022.65, mae 28.84, val_mae 30.14, mse 917.43, val_mse 1022.65\n",
            "Epoch 200, loss 92.29, val_loss 142.37, mae 7.21, val_mae 8.70, mse 92.29, val_mse 142.37\n",
            "Epoch 400, loss 55.87, val_loss 92.18, mae 5.37, val_mae 6.83, mse 55.87, val_mse 92.18\n",
            "Epoch 600, loss 54.47, val_loss 91.38, mae 5.27, val_mae 6.76, mse 54.47, val_mse 91.38\n",
            "Epoch 800, loss 52.66, val_loss 89.82, mae 5.19, val_mae 6.65, mse 52.66, val_mse 89.82\n",
            "Epoch 1000, loss 51.01, val_loss 89.10, mae 5.06, val_mae 6.55, mse 51.01, val_mse 89.10\n",
            "Epoch 1200, loss 49.54, val_loss 87.94, mae 4.98, val_mae 6.45, mse 49.54, val_mse 87.94\n",
            "Epoch 1400, loss 48.24, val_loss 87.32, mae 4.89, val_mae 6.38, mse 48.24, val_mse 87.32\n",
            "Epoch 1600, loss 47.17, val_loss 86.76, mae 4.81, val_mae 6.32, mse 47.17, val_mse 86.76\n",
            "Epoch 1800, loss 46.20, val_loss 85.84, mae 4.76, val_mae 6.25, mse 46.20, val_mse 85.84\n",
            "Epoch 2000, loss 45.35, val_loss 85.17, mae 4.70, val_mae 6.19, mse 45.35, val_mse 85.17\n",
            "Epoch 2200, loss 44.64, val_loss 84.91, mae 4.65, val_mae 6.14, mse 44.64, val_mse 84.91\n"
          ],
          "name": "stdout"
        }
      ]
    },
    {
      "cell_type": "code",
      "metadata": {
        "id": "QlB3GPfZAdcA",
        "outputId": "260592a6-00d2-4129-9c83-72cd27de7044",
        "colab": {
          "base_uri": "https://localhost:8080/",
          "height": 305
        }
      },
      "source": [
        "# The fit model returns the history object for each Keras model\n",
        "# Let's explore what is inside history\n",
        "print('keys:', history.history.keys())\n",
        "\n",
        "# Returning the desired values for plotting and turn to numpy array\n",
        "mae = np.asarray(history.history['mae'])\n",
        "val_mae = np.asarray(history.history['val_mae'])\n",
        "\n",
        "# Creating the data frame\n",
        "num_values = (len(mae))\n",
        "values = np.zeros((num_values,2), dtype=float)\n",
        "values[:,0] = mae\n",
        "values[:,1] = val_mae\n",
        "\n",
        "# Using pandas to frame the data\n",
        "steps = pd.RangeIndex(start=0,stop=num_values)\n",
        "data = pd.DataFrame(values, steps, columns=[\"training-mae\", \"val-mae\"])\n",
        "\n",
        "# Plotting\n",
        "sns.set(style=\"whitegrid\")\n",
        "sns.lineplot(data=data, palette=\"tab10\", linewidth=2.5)"
      ],
      "execution_count": 9,
      "outputs": [
        {
          "output_type": "stream",
          "text": [
            "keys: dict_keys(['loss', 'mae', 'mse', 'val_loss', 'val_mae', 'val_mse'])\n"
          ],
          "name": "stdout"
        },
        {
          "output_type": "execute_result",
          "data": {
            "text/plain": [
              "<matplotlib.axes._subplots.AxesSubplot at 0x7f1b2f88fc88>"
            ]
          },
          "metadata": {
            "tags": []
          },
          "execution_count": 9
        },
        {
          "output_type": "display_data",
          "data": {
            "image/png": "[encoded data removed]",
            "text/plain": [
              "<Figure size 432x288 with 1 Axes>"
            ]
          },
          "metadata": {
            "tags": []
          }
        }
      ]
    },
    {
      "cell_type": "code",
      "metadata": {
        "id": "hk4T7d3fAirT",
        "outputId": "df254e77-5bf9-41b9-8bc1-8f54c4997d33",
        "colab": {
          "base_uri": "https://localhost:8080/",
          "height": 289
        }
      },
      "source": [
        "predictions = model.predict(testInput).flatten()\n",
        "a = plt.axes(aspect='equal')\n",
        "plt.scatter(predictions, testTarget, edgecolors=(0, 0, 0))\n",
        "plt.xlabel('True Values')\n",
        "plt.ylabel('Predictions')\n",
        "lims = [0, 50]\n",
        "plt.xlim(lims)\n",
        "plt.ylim(lims)\n",
        "_ = plt.plot(lims, lims)"
      ],
      "execution_count": 10,
      "outputs": [
        {
          "output_type": "display_data",
          "data": {
            "image/png": "[encoded data removed]",
            "text/plain": [
              "<Figure size 432x288 with 1 Axes>"
            ]
          },
          "metadata": {
            "tags": []
          }
        }
      ]
    },
    {
      "cell_type": "code",
      "metadata": {
        "id": "qZLB8wmLAkSZ",
        "outputId": "5e46c94e-ce7c-4137-a2c1-864fa31262ac",
        "colab": {
          "base_uri": "https://localhost:8080/"
        }
      },
      "source": [
        "# Get the saved checkpoint files\n",
        "checkpoints = []\n",
        "for f_name in os.listdir(checkpoint_dir):\n",
        "  if f_name.startswith('cp-'):\n",
        "    file_with_no_ext = os.path.splitext(f_name)[0]\n",
        "    checkpoints.append(file_with_no_ext)\n",
        "\n",
        "# Return unique list elements\n",
        "checkpoints = list(set(checkpoints))\n",
        "print('checkpoints:',checkpoints)\n",
        "\n",
        "# Load all model checkpoints and evaluate for each\n",
        "count = 0\n",
        "model_improvement_progress = False\n",
        "if model_improvement_progress:\n",
        "  for checkpoint in checkpoints:\n",
        "    count += 1\n",
        "\n",
        "    # Call model instant\n",
        "    model = linear_model()\n",
        "    \n",
        "    # Restore the weights\n",
        "    path = os.path.join('training',checkpoint)\n",
        "    model.load_weights(path)\n",
        "\n",
        "    # Access to layer weights\n",
        "    layer = model.get_layer('layer')\n",
        "    w1,w0 = layer.get_weights()\n",
        "    w1 = float(w1[0])\n",
        "    w0 = float(w0[0])\n",
        "    \n",
        "    # Draw the scatter plot of data\n",
        "    fig, ax = plt.subplots()\n",
        "    x = testInput\n",
        "    y = testTarget\n",
        "    ax.scatter(x, y, edgecolors=(0, 0, 0))\n",
        "    ax.set_xlabel('RM')\n",
        "    ax.set_ylabel('MEDV')\n",
        "    \n",
        "    # Plot the line\n",
        "    y_hat = w1*x + w0\n",
        "    plt.plot(x, y_hat, '-r')\n",
        "    plt.savefig(os.path.join('/content/drive/linearregression', str(checkpoint)+'.png'))\n"
      ],
      "execution_count": 11,
      "outputs": [
        {
          "output_type": "stream",
          "text": [
            "checkpoints: ['cp-00000.ckpt']\n"
          ],
          "name": "stdout"
        }
      ]
    }
  ]
}