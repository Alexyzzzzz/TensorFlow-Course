{
  "nbformat": 4,
  "nbformat_minor": 0,
  "metadata": {
    "colab": {
      "name": "tensors.ipynb",
      "provenance": [],
      "collapsed_sections": []
    },
    "kernelspec": {
      "name": "python3",
      "display_name": "Python 3"
    },
    "accelerator": "GPU"
  },
  "cells": [
    {
      "cell_type": "code",
      "metadata": {
        "id": "7i1UqqIkNxAt"
      },
      "source": [
        "# Import necessary libraries\n",
        "import tensorflow as tf\n",
        "import numpy as np"
      ],
      "execution_count": null,
      "outputs": []
    },
    {
      "cell_type": "markdown",
      "metadata": {
        "id": "I4YPHO9ba3Bc"
      },
      "source": [
        "## Tensors\n",
        "\n",
        "Tensor are multi-dimensitonal arrays that are used in Tensorflow.\n",
        "\n",
        "We use the following definition:\n",
        "\n",
        "* **Rank:** The number of dimensions that a vector has.\n",
        "\n",
        "Below, we will define different kinds of tensors and show their rank using [tf.rank](https://www.tensorflow.org/api_docs/python/tf/rank) function."
      ]
    },
    {
      "cell_type": "code",
      "metadata": {
        "id": "rcU8_F3fPUb5",
        "outputId": "790918d1-a22a-462f-ed9b-5fd83f57b9c8",
        "colab": {
          "base_uri": "https://localhost:8080/"
        }
      },
      "source": [
        "tensor = tf.constant(0)\n",
        "print(\"Print constant tensor {} of rank {}\".format(tensor, tf.rank(tensor)))\n",
        "print(\"Show full tensor:\", tensor)"
      ],
      "execution_count": null,
      "outputs": [
        {
          "output_type": "stream",
          "text": [
            "Print constant tensor 0 of rank 0\n",
            "Show full tensor: tf.Tensor(0, shape=(), dtype=int32)\n"
          ],
          "name": "stdout"
        }
      ]
    },
    {
      "cell_type": "code",
      "metadata": {
        "id": "ahIBf6_4cRnm",
        "outputId": "16fd6a72-c133-4fe8-b111-c6940b625f58",
        "colab": {
          "base_uri": "https://localhost:8080/"
        }
      },
      "source": [
        "# NOTE: We use .numpy() to transform tf.tensor to numpy\n",
        "tensor = tf.constant([1,2,3])\n",
        "print(\"Tensor:\", tensor)\n",
        "print(\"Rank:\", tf.rank(tensor).numpy())"
      ],
      "execution_count": null,
      "outputs": [
        {
          "output_type": "stream",
          "text": [
            "Tensor: tf.Tensor([1 2 3], shape=(3,), dtype=int32)\n",
            "Rank: 1\n"
          ],
          "name": "stdout"
        }
      ]
    },
    {
      "cell_type": "markdown",
      "metadata": {
        "id": "ss3aDmDTd-LS"
      },
      "source": [
        "### Tensor Operations"
      ]
    },
    {
      "cell_type": "code",
      "metadata": {
        "id": "TKX2U0Imcm7d",
        "outputId": "bb9e3abb-513f-4a99-ee6d-cd2a211d5ab5",
        "colab": {
          "base_uri": "https://localhost:8080/",
          "height": 135
        }
      },
      "source": [
        "x = tf.constant([[1, 1],\n",
        "                 [1, 1]])\n",
        "y = tf.constant([[2, 4],\n",
        "                 [6, 8]])\n",
        "\n",
        "# Add two tensors\n",
        "print(tf.add(x, y), \"\\n\")\n",
        "\n",
        "# Add two tensors\n",
        "print(tf.matmul(x, y), \"\\n\")\n"
      ],
      "execution_count": null,
      "outputs": [
        {
          "output_type": "error",
          "ename": "SyntaxError",
          "evalue": "ignored",
          "traceback": [
            "\u001b[0;36m  File \u001b[0;32m\"<ipython-input-17-1da1cb6c51ac>\"\u001b[0;36m, line \u001b[0;32m4\u001b[0m\n\u001b[0;31m    [6, 8])\u001b[0m\n\u001b[0m          ^\u001b[0m\n\u001b[0;31mSyntaxError\u001b[0m\u001b[0;31m:\u001b[0m invalid syntax\n"
          ]
        }
      ]
    },
    {
      "cell_type": "markdown",
      "metadata": {
        "id": "BlEgQ2t2edKl"
      },
      "source": [
        "### Muti-dimentional Tensors\n",
        "\n",
        "This part is not much different compared to what we learned so far. However, it would be nice to try extracting as much information as we can from a multi-dimentional tensor.\n",
        "\n",
        "\n",
        "Let's use [tf.ones](https://www.tensorflow.org/api_docs/python/tf/ones) for our purpose here. It creates an all-one tensor."
      ]
    },
    {
      "cell_type": "code",
      "metadata": {
        "id": "Gdtt0e4-fDkl"
      },
      "source": [
        "# We set the shape of the tensor and the desired data type.\n",
        "tensor = tf.ones(shape = [2, 3, 6], dtype = tf.float32)\n",
        "print('Tensor:', tensor)"
      ],
      "execution_count": null,
      "outputs": []
    },
    {
      "cell_type": "code",
      "metadata": {
        "id": "c5PChFhlfXmx"
      },
      "source": [
        "print(\"Tensor Rank: \", tf.rank(tensor).numpy())\n",
        "print(\"Shape: \", tensor.shape)\n",
        "print(\"Elements' type\", tensor.dtype)\n",
        "print(\"The size of the second axis:\", tensor.shape[1])\n",
        "print(\"The size of the last axis:\", tensor.shape[-1])\n",
        "print(\"Total number of elements: \", tf.size(tensor).numpy())\n",
        "print(\"How many dimensions? \", tensor.ndim)"
      ],
      "execution_count": null,
      "outputs": []
    },
    {
      "cell_type": "markdown",
      "metadata": {
        "id": "cnYwTBqPhW1I"
      },
      "source": [
        "### Indexing\n",
        "\n",
        "TensorFlow indexing is aligned with Python indexing. See the following examples."
      ]
    },
    {
      "cell_type": "code",
      "metadata": {
        "id": "34-Tfcsnf6uG"
      },
      "source": [
        "x = tf.constant([[1, 2, 3],\n",
        "                 [4, 5, 6],\n",
        "                 [7, 8, 9]])"
      ],
      "execution_count": null,
      "outputs": []
    },
    {
      "cell_type": "code",
      "metadata": {
        "id": "tNZhisXDhoLp"
      },
      "source": [
        "# All elements\n",
        "print(x[:].numpy())"
      ],
      "execution_count": null,
      "outputs": []
    },
    {
      "cell_type": "code",
      "metadata": {
        "id": "KUghwlZ7hr10"
      },
      "source": [
        "# All elements of the first row\n",
        "print(x[0,:].numpy())"
      ],
      "execution_count": null,
      "outputs": []
    },
    {
      "cell_type": "code",
      "metadata": {
        "id": "NSCMESaPhwnV"
      },
      "source": [
        "# First row and last column\n",
        "print(x[0,-1].numpy())"
      ],
      "execution_count": null,
      "outputs": []
    },
    {
      "cell_type": "code",
      "metadata": {
        "id": "hH8Fhi2Sh2rt"
      },
      "source": [
        "# From second row to last and from third column to last\n",
        "print(x[1:,2:].numpy)"
      ],
      "execution_count": null,
      "outputs": []
    },
    {
      "cell_type": "markdown",
      "metadata": {
        "id": "Y_zEE3-7iUmu"
      },
      "source": [
        "### Data types\n",
        "\n",
        "You can change the data type of the tesnorflow tensors for your purpose. This will be done easily by [tf.cast](https://www.tensorflow.org/api_docs/python/tf/cast)."
      ]
    },
    {
      "cell_type": "code",
      "metadata": {
        "id": "mFsqRDxAiK95"
      },
      "source": [
        "original_tensor = tf.constant([1, 2, 3, 4], dtype=tf.int32)\n",
        "print('Original tensor: ', original_tensor)\n",
        "print(\"Tensor type before casting: \", original_tensor.dtype)\n",
        "\n",
        "# Casting to change dtype\n",
        "casted_tensor = tf.cast(original_tensor, dtype=tf.float32)\n",
        "print('New tensor: ', casted_tensor)\n",
        "print(\"Tensor type after casting: \", casted_tensor.dtype)"
      ],
      "execution_count": null,
      "outputs": []
    },
    {
      "cell_type": "code",
      "metadata": {
        "id": "81XDYbnxi-nx"
      },
      "source": [
        ""
      ],
      "execution_count": null,
      "outputs": []
    }
  ]
}